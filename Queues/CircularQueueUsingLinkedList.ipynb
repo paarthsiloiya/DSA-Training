{
 "cells": [
  {
   "cell_type": "markdown",
   "id": "26b242ca",
   "metadata": {},
   "source": [
    "# **Circular Queue Using Linked List**\n",
    "\n",
    "A Circular Queue implemented using Linked Lists combines the benefits of both circular queues (efficient space utilization) and linked lists (dynamic size). Unlike array-based circular queues, this implementation can grow and shrink dynamically while maintaining the circular structure.\n",
    "\n",
    "**Key Features:**\n",
    "- FIFO (First In First Out) principle\n",
    "- Circular structure - rear node points back to front node  \n",
    "- Dynamic size - grows and shrinks as needed\n",
    "- No memory wastage or overflow (within system limits)\n",
    "- Efficient insertion and deletion operations\n",
    "\n",
    "**Structure of a Circular Queue using Linked List:**\n",
    "```\n",
    "    Front → [10|next] → [20|next] → [30|next] → [40|next] ←─ Rear\n",
    "             ↑                                    |\n",
    "             └────────────────────────────────────┘\n",
    "                        (Circular Connection)\n",
    "```\n",
    "\n",
    "**Basic Operations:**\n",
    "- **Enqueue**: Add an element to the rear of the queue\n",
    "- **Dequeue**: Remove and return the front element from the queue  \n",
    "- **Front/Peek**: View the front element without removing it\n",
    "- **Rear**: View the rear element without removing it\n",
    "- **isEmpty**: Check if the queue is empty\n",
    "- **Size**: Get the number of elements in the queue\n",
    "- **Display**: Show all elements in circular order"
   ]
  },
  {
   "cell_type": "markdown",
   "id": "c783ed07",
   "metadata": {},
   "source": [
    "## Node Definition for Circular Queue\n",
    "\n",
    "Each node in our circular linked list contains:\n",
    "- **Data**: The actual value stored in the node\n",
    "- **Next**: A reference/pointer to the next node in the queue\n",
    "\n",
    "In a circular queue, the rear node's next pointer points back to the front node, creating a circle."
   ]
  },
  {
   "cell_type": "code",
   "execution_count": 1,
   "id": "f92989a9",
   "metadata": {},
   "outputs": [
    {
     "name": "stdout",
     "output_type": "stream",
     "text": [
      "Circular Queue structure:\n",
      "Node 1: 10 -> 20\n",
      "Node 2: 20 -> 30\n",
      "Node 3: 30 -> 10 (back to start)\n",
      "\n",
      "Traversing circular queue (limited to avoid infinite loop):\n",
      "Visit 1: 10\n",
      "Visit 2: 20\n",
      "Visit 3: 30\n",
      "Visit 4: 10\n",
      "Visit 5: 20\n",
      "Visit 6: 30\n"
     ]
    }
   ],
   "source": [
    "class Node:\n",
    "    def __init__(self, data):\n",
    "        self.data = data    # Store the data\n",
    "        self.next = None    # Initialize next as None\n",
    "    \n",
    "    def __str__(self):\n",
    "        return str(self.data)\n",
    "\n",
    "# Example of creating nodes for circular queue\n",
    "node1 = Node(10)\n",
    "node2 = Node(20)  \n",
    "node3 = Node(30)\n",
    "\n",
    "# Linking nodes to form a circular queue\n",
    "node1.next = node2  # 10 points to 20\n",
    "node2.next = node3  # 20 points to 30\n",
    "node3.next = node1  # 30 points back to 10 (circular connection)\n",
    "\n",
    "print(\"Circular Queue structure:\")\n",
    "print(f\"Node 1: {node1.data} -> {node1.next.data}\")\n",
    "print(f\"Node 2: {node2.data} -> {node2.next.data}\")\n",
    "print(f\"Node 3: {node3.data} -> {node3.next.data} (back to start)\")\n",
    "\n",
    "print(f\"\\nTraversing circular queue (limited to avoid infinite loop):\")\n",
    "current = node1\n",
    "for i in range(6):  # Show 2 complete cycles\n",
    "    print(f\"Visit {i+1}: {current.data}\")\n",
    "    current = current.next"
   ]
  },
  {
   "cell_type": "markdown",
   "id": "79b27c55",
   "metadata": {},
   "source": [
    "## Circular Queue Implementation Concept\n",
    "\n",
    "In linked list-based circular queue implementation, we use:\n",
    "- **Front**: Pointer to the front node (where we dequeue from)\n",
    "- **Rear**: Pointer to the rear node (where we enqueue to)\n",
    "- **Size**: Counter to keep track of number of elements\n",
    "\n",
    "**Key Points:**\n",
    "- When queue is empty: front = None, rear = None\n",
    "- When queue has one element: front = rear, and node.next points to itself\n",
    "- When queue has multiple elements: rear.next always points to front\n",
    "- Enqueue: Add new node after rear, update rear\n",
    "- Dequeue: Remove front node, update front\n",
    "- Circular connection is maintained automatically"
   ]
  },
  {
   "cell_type": "code",
   "execution_count": 2,
   "id": "d1eb9bf9",
   "metadata": {},
   "outputs": [
    {
     "name": "stdout",
     "output_type": "stream",
     "text": [
      "Is queue empty? True\n",
      "Queue size: 0\n",
      "Circular Queue is empty\n"
     ]
    }
   ],
   "source": [
    "class CircularQueueLinkedList:\n",
    "    def __init__(self):\n",
    "        self.front = None   # Pointer to front node\n",
    "        self.rear = None    # Pointer to rear node\n",
    "        self.size = 0       # Number of elements\n",
    "    \n",
    "    def is_empty(self):\n",
    "        \"\"\"Check if the circular queue is empty\"\"\"\n",
    "        return self.front is None\n",
    "    \n",
    "    def get_size(self):\n",
    "        \"\"\"Return the current size of the queue\"\"\"\n",
    "        return self.size\n",
    "    \n",
    "    def display(self):\n",
    "        \"\"\"Display the circular queue contents\"\"\"\n",
    "        if self.is_empty():\n",
    "            print(\"Circular Queue is empty\")\n",
    "            return\n",
    "        \n",
    "        print(\"Circular Queue contents (front to rear):\")\n",
    "        current = self.front\n",
    "        position = 1\n",
    "        \n",
    "        # Traverse the queue once\n",
    "        while True:\n",
    "            marker = \"\"\n",
    "            if current == self.front:\n",
    "                marker += \" ← Front\"\n",
    "            if current == self.rear:\n",
    "                marker += \" ← Rear\"\n",
    "            \n",
    "            print(f\"Position {position}: {current.data}{marker}\")\n",
    "            current = current.next\n",
    "            position += 1\n",
    "            \n",
    "            # Stop when we complete one full cycle\n",
    "            if current == self.front:\n",
    "                break\n",
    "        \n",
    "        print(f\"Size: {self.size}\")\n",
    "        print(f\"Circular connection: Rear({self.rear.data}) → Front({self.front.data})\")\n",
    "\n",
    "# Create an empty circular queue\n",
    "cq = CircularQueueLinkedList()\n",
    "print(f\"Is queue empty? {cq.is_empty()}\")\n",
    "print(f\"Queue size: {cq.get_size()}\")\n",
    "cq.display()"
   ]
  },
  {
   "cell_type": "markdown",
   "id": "4198b376",
   "metadata": {},
   "source": [
    "## Basic Operations for Circular Queue\n",
    "\n",
    "Let's implement helper methods for accessing front and rear elements:"
   ]
  },
  {
   "cell_type": "code",
   "execution_count": 3,
   "id": "9ccc2186",
   "metadata": {},
   "outputs": [
    {
     "name": "stdout",
     "output_type": "stream",
     "text": [
      "Circular Queue is empty - cannot peek front\n",
      "Front element: None\n",
      "Circular Queue is empty - cannot peek rear\n",
      "Rear element: None\n"
     ]
    }
   ],
   "source": [
    "def front_element(self):\n",
    "    \"\"\"Return the front element without removing it\"\"\"\n",
    "    if self.is_empty():\n",
    "        print(\"Circular Queue is empty - cannot peek front\")\n",
    "        return None\n",
    "    return self.front.data\n",
    "\n",
    "def rear_element(self):  \n",
    "    \"\"\"Return the rear element without removing it\"\"\"\n",
    "    if self.is_empty():\n",
    "        print(\"Circular Queue is empty - cannot peek rear\")\n",
    "        return None\n",
    "    return self.rear.data\n",
    "\n",
    "# Add methods to the class\n",
    "CircularQueueLinkedList.front_element = front_element\n",
    "CircularQueueLinkedList.rear_element = rear_element\n",
    "\n",
    "# Test the methods\n",
    "print(f\"Front element: {cq.front_element()}\")\n",
    "print(f\"Rear element: {cq.rear_element()}\")"
   ]
  },
  {
   "cell_type": "markdown",
   "id": "1b665836",
   "metadata": {},
   "source": [
    "## Enqueue Operation\n",
    "\n",
    "The Enqueue operation adds an element to the rear of the circular queue.\n",
    "\n",
    "**Algorithm:**\n",
    "1. Create a new node with the given data\n",
    "2. If queue is empty: Set both front and rear to new node, make it point to itself\n",
    "3. If queue has elements: \n",
    "   - Set new node's next to current front (maintain circular connection)\n",
    "   - Set current rear's next to new node\n",
    "   - Update rear to new node\n",
    "4. Increment size counter\n",
    "\n",
    "**Time Complexity:** `O(1)` - constant time operation\n",
    "**Space Complexity:** `O(1)` - only one new node is created"
   ]
  }
 ],
 "metadata": {
  "kernelspec": {
   "display_name": "Python 3",
   "language": "python",
   "name": "python3"
  },
  "language_info": {
   "codemirror_mode": {
    "name": "ipython",
    "version": 3
   },
   "file_extension": ".py",
   "mimetype": "text/x-python",
   "name": "python",
   "nbconvert_exporter": "python",
   "pygments_lexer": "ipython3",
   "version": "3.13.5"
  }
 },
 "nbformat": 4,
 "nbformat_minor": 5
}
