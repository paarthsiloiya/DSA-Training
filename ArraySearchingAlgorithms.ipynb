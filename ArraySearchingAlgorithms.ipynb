{
 "cells": [
  {
   "cell_type": "markdown",
   "id": "e9e853d9",
   "metadata": {},
   "source": [
    "# **Searching**\n",
    "\n",
    "Searching an array is an operation that finds an element in the array by its value. There are many algorithms to search a array, some of the most commonly used are:\n",
    "- Linear Search\n",
    "- Binary Search\n",
    "- Two Pointer "
   ]
  },
  {
   "cell_type": "markdown",
   "id": "83ec5dc7",
   "metadata": {},
   "source": [
    "### Array Initialization"
   ]
  },
  {
   "cell_type": "code",
   "execution_count": 1,
   "id": "bb01efd9",
   "metadata": {},
   "outputs": [
    {
     "name": "stdout",
     "output_type": "stream",
     "text": [
      "[2, 5, 1, 6, 7, 3, 9, 4]\n"
     ]
    }
   ],
   "source": [
    "n = int(input(\"Enter the number of elements: \"))\n",
    "array = [None] * n\n",
    "\n",
    "for i in range(n):\n",
    "    ele = int(input(\"Enter the element: \"))\n",
    "    array[i] = ele\n",
    "\n",
    "print(array)"
   ]
  },
  {
   "cell_type": "markdown",
   "id": "bdd3d8d1",
   "metadata": {},
   "source": [
    "## Linear Search\n",
    "\n",
    "This is the most simplest searching algorithm. Linear search works by sequentially accessing each element and comparing it with the target. Since it searches one by one the time complexity for Linear Search is `O(n)`."
   ]
  },
  {
   "cell_type": "code",
   "execution_count": 3,
   "id": "9050e280",
   "metadata": {},
   "outputs": [
    {
     "name": "stdout",
     "output_type": "stream",
     "text": [
      "Element 3 found at index 5\n"
     ]
    }
   ],
   "source": [
    "s = int(input(\"Enter the element to be searched: \"))\n",
    "\n",
    "for i in range(n):\n",
    "    if array[i] == s:\n",
    "        print(f\"Element {s} found at index {i}\")\n",
    "        break\n",
    "else:\n",
    "    print(f\"Element {s} not found in the array\")\n"
   ]
  },
  {
   "cell_type": "markdown",
   "id": "456df4c9",
   "metadata": {},
   "source": [
    "## Binary Search\n",
    "\n",
    "\n",
    "Binary Search is an efficient algorithm for finding an element in a sorted array. It works by repeatedly dividing the search interval in half. If the value of the search key is less than the item in the middle of the interval, narrow the interval to the lower half. Otherwise, narrow it to the upper half. The process continues until the value is found or the interval is empty. The time complexity for Binary Search is `O(log n)`."
   ]
  },
  {
   "cell_type": "code",
   "execution_count": 2,
   "id": "1d01578b",
   "metadata": {},
   "outputs": [
    {
     "name": "stdout",
     "output_type": "stream",
     "text": [
      "Sorted Array: [1, 2, 3, 4, 5, 6, 7, 9]\n",
      "Element 3 found at index 2 in the sorted array\n"
     ]
    }
   ],
   "source": [
    "s = int(input(\"Enter the element to be searched: \"))\n",
    "\n",
    "left, right = 0, n - 1\n",
    "sorted_array = sorted(array)\n",
    "\n",
    "print(\"Sorted Array:\", sorted_array)\n",
    "\n",
    "while left <= right:\n",
    "    mid = left + (right - left) // 2\n",
    "\n",
    "    if sorted_array[mid] == s:\n",
    "        print(f\"Element {s} found at index {mid} in the sorted array\")\n",
    "        break\n",
    "    elif sorted_array[mid] < s:\n",
    "        left = mid + 1\n",
    "    else:\n",
    "        right = mid - 1\n",
    "else:\n",
    "    print(f\"Element {s} not found in the sorted array\")"
   ]
  },
  {
   "cell_type": "markdown",
   "id": "0c144df8",
   "metadata": {},
   "source": [
    "## Two Sum using Two Pointer Approach\n",
    "\n",
    "The Two Pointer approach is commonly used to solve the Two Sum problem in a sorted array. The idea is to use two pointers, one starting at the beginning and the other at the end of the array. Move the pointers towards each other based on the sum of the elements at these positions. If the sum is less than the target, move the left pointer to the right. If the sum is greater, move the right pointer to the left. Continue until the pair is found or the pointers cross. The time complexity for this approach is `O(n)`."
   ]
  },
  {
   "cell_type": "code",
   "execution_count": 3,
   "id": "a4e975a2",
   "metadata": {},
   "outputs": [
    {
     "name": "stdout",
     "output_type": "stream",
     "text": [
      "Sorted Array: [1, 2, 3, 4, 5, 6, 7, 9]\n",
      "Pair found: (1, 6)\n",
      "Pair found: (2, 5)\n",
      "Pair found: (3, 4)\n"
     ]
    }
   ],
   "source": [
    "s = int(input(\"Enter sum to find pairs for: \"))\n",
    "\n",
    "left, right = 0, n - 1\n",
    "sorted_array = sorted(array)\n",
    "\n",
    "print(\"Sorted Array:\", sorted_array)\n",
    "\n",
    "found = False\n",
    "while left < right:\n",
    "    current_sum = sorted_array[left] + sorted_array[right]\n",
    "\n",
    "    if current_sum == s:\n",
    "        print(f\"Pair found: ({sorted_array[left]}, {sorted_array[right]})\")\n",
    "        found = True\n",
    "        left += 1\n",
    "        right -= 1\n",
    "    elif current_sum < s:\n",
    "        left += 1\n",
    "    else:\n",
    "        right -= 1\n",
    "\n",
    "if not found:\n",
    "    print(f\"No pairs found with sum {s}\")"
   ]
  }
 ],
 "metadata": {
  "kernelspec": {
   "display_name": "Python 3",
   "language": "python",
   "name": "python3"
  },
  "language_info": {
   "codemirror_mode": {
    "name": "ipython",
    "version": 3
   },
   "file_extension": ".py",
   "mimetype": "text/x-python",
   "name": "python",
   "nbconvert_exporter": "python",
   "pygments_lexer": "ipython3",
   "version": "3.13.5"
  }
 },
 "nbformat": 4,
 "nbformat_minor": 5
}
