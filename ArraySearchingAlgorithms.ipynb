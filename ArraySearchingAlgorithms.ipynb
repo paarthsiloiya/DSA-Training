{
 "cells": [
  {
   "cell_type": "markdown",
   "id": "e9e853d9",
   "metadata": {},
   "source": [
    "# **Searching**\n",
    "\n",
    "Searching an array is an operation that finds an element in the array by its value. There are many algorithms to search a array, some of the most commonly used are:\n",
    "- Linear Search\n",
    "- Binary Search\n",
    "- Two Pointer "
   ]
  },
  {
   "cell_type": "markdown",
   "id": "83ec5dc7",
   "metadata": {},
   "source": [
    "### Array Initialization"
   ]
  },
  {
   "cell_type": "code",
   "execution_count": 2,
   "id": "bb01efd9",
   "metadata": {},
   "outputs": [
    {
     "name": "stdout",
     "output_type": "stream",
     "text": [
      "[2, 5, 1, 6, 7, 3, 9, 4]\n"
     ]
    }
   ],
   "source": [
    "n = int(input(\"Enter the number of elements: \"))\n",
    "array = [None] * n\n",
    "\n",
    "for i in range(n):\n",
    "    ele = int(input(\"Enter the element: \"))\n",
    "    array[i] = ele\n",
    "\n",
    "print(array)"
   ]
  },
  {
   "cell_type": "markdown",
   "id": "bdd3d8d1",
   "metadata": {},
   "source": [
    "## Linear Search\n",
    "\n",
    "This is the most simplest searching algorithm. Linear search works by sequentially accessing each element and comparing it with the target. Since it searches one by one the time complexity for Linear Search is `O(n)`."
   ]
  },
  {
   "cell_type": "code",
   "execution_count": 3,
   "id": "9050e280",
   "metadata": {},
   "outputs": [
    {
     "name": "stdout",
     "output_type": "stream",
     "text": [
      "Element 3 found at index 5\n"
     ]
    }
   ],
   "source": [
    "s = int(input(\"Enter the element to be searched: \"))\n",
    "\n",
    "for i in range(n):\n",
    "    if array[i] == s:\n",
    "        print(f\"Element {s} found at index {i}\")\n",
    "        break\n",
    "else:\n",
    "    print(f\"Element {s} not found in the array\")\n"
   ]
  }
 ],
 "metadata": {
  "kernelspec": {
   "display_name": "Python 3",
   "language": "python",
   "name": "python3"
  },
  "language_info": {
   "codemirror_mode": {
    "name": "ipython",
    "version": 3
   },
   "file_extension": ".py",
   "mimetype": "text/x-python",
   "name": "python",
   "nbconvert_exporter": "python",
   "pygments_lexer": "ipython3",
   "version": "3.13.5"
  }
 },
 "nbformat": 4,
 "nbformat_minor": 5
}
