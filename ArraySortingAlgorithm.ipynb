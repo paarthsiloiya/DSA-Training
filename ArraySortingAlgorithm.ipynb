{
 "cells": [
  {
   "cell_type": "markdown",
   "id": "796c93c0",
   "metadata": {},
   "source": [
    "# **Sorting**\n",
    "\n",
    "Sorting an array is the process of arranging its elements in a particular order, typically ascending or descending. Sorting is a fundamental operation in computer science and is used to optimize searching and other algorithms. Some of the most commonly used sorting algorithms are:\n",
    "- Bubble Sort\n",
    "- Selection Sort\n",
    "- Insertion Sort\n",
    "- Merge Sort\n",
    "- Quick Sort"
   ]
  },
  {
   "cell_type": "markdown",
   "id": "0a2bfffc",
   "metadata": {},
   "source": [
    "### Array Initialization"
   ]
  },
  {
   "cell_type": "code",
   "execution_count": 1,
   "id": "a6a5343a",
   "metadata": {},
   "outputs": [
    {
     "name": "stdout",
     "output_type": "stream",
     "text": [
      "[4, 7, 2, 5, 1, 8]\n"
     ]
    }
   ],
   "source": [
    "n = int(input(\"Enter the number of elements: \"))\n",
    "array = [None] * n\n",
    "\n",
    "for i in range(n):\n",
    "    ele = int(input(\"Enter the element: \"))\n",
    "    array[i] = ele\n",
    "\n",
    "print(array)"
   ]
  },
  {
   "cell_type": "markdown",
   "id": "e205daac",
   "metadata": {},
   "source": [
    "## Bubble Sort\n",
    "\n",
    "Bubble Sort is a simple sorting algorithm that repeatedly steps through the list, compares adjacent elements, and swaps them if they are in the wrong order. This process is repeated until the list is sorted. The time complexity for Bubble Sort is `O(n^2)` in the worst case."
   ]
  },
  {
   "cell_type": "code",
   "execution_count": 4,
   "id": "7f5cb06d",
   "metadata": {},
   "outputs": [
    {
     "name": "stdout",
     "output_type": "stream",
     "text": [
      "Original array: [4, 7, 2, 5, 1, 8]\n",
      "Sorted array using Bubble Sort: [1, 2, 4, 5, 7, 8]\n"
     ]
    }
   ],
   "source": [
    "arr = array.copy()\n",
    "print(\"Original array:\", arr)\n",
    "for i in range(n):\n",
    "    swapped = False\n",
    "    for j in range(0, n - i - 1):\n",
    "        if arr[j] > arr[j + 1]:\n",
    "            arr[j], arr[j + 1] = arr[j + 1], arr[j]\n",
    "            swapped = True\n",
    "    if not swapped:\n",
    "        break\n",
    "print(\"Sorted array using Bubble Sort:\", arr)"
   ]
  },
  {
   "cell_type": "markdown",
   "id": "eb5a3870",
   "metadata": {},
   "source": [
    "## Selection Sort\n",
    "\n",
    "Selection Sort is a simple comparison-based sorting algorithm. It works by repeatedly finding the minimum element from the unsorted part of the array and moving it to the beginning. The process continues until the entire array is sorted. The time complexity for Selection Sort is `O(n^2)` in the worst case."
   ]
  },
  {
   "cell_type": "code",
   "execution_count": 5,
   "id": "fd7114af",
   "metadata": {},
   "outputs": [
    {
     "name": "stdout",
     "output_type": "stream",
     "text": [
      "Original array: [4, 7, 2, 5, 1, 8]\n",
      "Sorted array using Selection Sort: [1, 2, 4, 5, 7, 8]\n"
     ]
    }
   ],
   "source": [
    "arr = array.copy()\n",
    "print(\"Original array:\", arr)\n",
    "for i in range(n):\n",
    "    min_idx = i\n",
    "    for j in range(i + 1, n):\n",
    "        if arr[j] < arr[min_idx]:\n",
    "            min_idx = j\n",
    "    arr[i], arr[min_idx] = arr[min_idx], arr[i]\n",
    "print(\"Sorted array using Selection Sort:\", arr)"
   ]
  },
  {
   "cell_type": "markdown",
   "id": "08d25f9b",
   "metadata": {},
   "source": [
    "## Insertion Sort\n",
    "\n",
    "Insertion Sort is a simple sorting algorithm that builds the final sorted array one item at a time. It works by picking elements from the unsorted part and placing them at the correct position in the sorted part. The time complexity for Insertion Sort is `O(n^2)` in the worst case, but it performs well for small or nearly sorted arrays."
   ]
  },
  {
   "cell_type": "code",
   "execution_count": 6,
   "id": "70f094e7",
   "metadata": {},
   "outputs": [
    {
     "name": "stdout",
     "output_type": "stream",
     "text": [
      "Original array: [4, 7, 2, 5, 1, 8]\n",
      "Sorted array using Insertion Sort: [1, 2, 4, 5, 7, 8]\n"
     ]
    }
   ],
   "source": [
    "arr = array.copy()\n",
    "print(\"Original array:\", arr)\n",
    "for i in range(1, n):\n",
    "    key = arr[i]\n",
    "    j = i - 1\n",
    "    while j >= 0 and arr[j] > key:\n",
    "        arr[j + 1] = arr[j]\n",
    "        j -= 1\n",
    "    arr[j + 1] = key\n",
    "print(\"Sorted array using Insertion Sort:\", arr)"
   ]
  },
  {
   "cell_type": "markdown",
   "id": "3378abdd",
   "metadata": {},
   "source": [
    "## Merge Sort\n",
    "\n",
    "Merge Sort is a divide-and-conquer sorting algorithm. It divides the array into two halves, recursively sorts each half, and then merges the sorted halves to produce the final sorted array. Merge Sort is efficient and stable, with a time complexity of `O(n log n)` in all cases."
   ]
  },
  {
   "cell_type": "code",
   "execution_count": 7,
   "id": "aeee538a",
   "metadata": {},
   "outputs": [
    {
     "name": "stdout",
     "output_type": "stream",
     "text": [
      "Original array: [4, 7, 2, 5, 1, 8]\n",
      "Sorted array using Merge Sort: [1, 2, 4, 5, 7, 8]\n"
     ]
    }
   ],
   "source": [
    "# Merge Sort implementation\n",
    "def merge_sort(arr):\n",
    "    if len(arr) > 1:\n",
    "        mid = len(arr) // 2\n",
    "        left = arr[:mid]\n",
    "        right = arr[mid:]\n",
    "        merge_sort(left)\n",
    "        merge_sort(right)\n",
    "        i = j = k = 0\n",
    "        while i < len(left) and j < len(right):\n",
    "            if left[i] < right[j]:\n",
    "                arr[k] = left[i]\n",
    "                i += 1\n",
    "            else:\n",
    "                arr[k] = right[j]\n",
    "                j += 1\n",
    "            k += 1\n",
    "        while i < len(left):\n",
    "            arr[k] = left[i]\n",
    "            i += 1\n",
    "            k += 1\n",
    "        while j < len(right):\n",
    "            arr[k] = right[j]\n",
    "            j += 1\n",
    "            k += 1\n",
    "arr = array.copy()\n",
    "print(\"Original array:\", arr)\n",
    "merge_sort(arr)\n",
    "print(\"Sorted array using Merge Sort:\", arr)"
   ]
  }
 ],
 "metadata": {
  "kernelspec": {
   "display_name": "Python 3",
   "language": "python",
   "name": "python3"
  },
  "language_info": {
   "codemirror_mode": {
    "name": "ipython",
    "version": 3
   },
   "file_extension": ".py",
   "mimetype": "text/x-python",
   "name": "python",
   "nbconvert_exporter": "python",
   "pygments_lexer": "ipython3",
   "version": "3.13.5"
  }
 },
 "nbformat": 4,
 "nbformat_minor": 5
}
