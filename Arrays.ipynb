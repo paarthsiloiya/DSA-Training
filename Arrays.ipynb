{
 "cells": [
  {
   "cell_type": "markdown",
   "id": "9e75a5d8",
   "metadata": {},
   "source": [
    "# **Arrays**\n",
    "\n",
    "Arrays are collection of similar data types that are stored in contiguous memory locations. Arrays are static data types i.e. there size is fixed. \n",
    "> (In python we will use Big list on `None` data types that will act as our memory locations)\n",
    "\n",
    "Arrays are random access which means that the elements in the array can be accessed from anywhere with `O(1)` time complexity.  \n",
    "\n",
    "The indexing in array follows *forward indexing*:\n",
    "|index   |0|1|2|3|4|5|\n",
    "|--------|-|-|-|-|-|-|\n",
    "|elements|3|1|5|6|9|2|"
   ]
  },
  {
   "cell_type": "code",
   "execution_count": 1,
   "id": "00cf3db2",
   "metadata": {},
   "outputs": [],
   "source": [
    "array = [None] * 100"
   ]
  },
  {
   "cell_type": "markdown",
   "id": "3e2a3672",
   "metadata": {},
   "source": [
    "## Initialization of Array\n",
    "\n",
    "We will ask the user of the amount of elements that they need to add. And then in the array declared above we will add those elements."
   ]
  },
  {
   "cell_type": "code",
   "execution_count": 4,
   "id": "5d0c1d8a",
   "metadata": {},
   "outputs": [
    {
     "name": "stdout",
     "output_type": "stream",
     "text": [
      "[1, 5, 6, 9, 2, None, None, None, None, None, None, None, None, None, None, None, None, None, None, None, None, None, None, None, None, None, None, None, None, None, None, None, None, None, None, None, None, None, None, None, None, None, None, None, None, None, None, None, None, None, None, None, None, None, None, None, None, None, None, None, None, None, None, None, None, None, None, None, None, None, None, None, None, None, None, None, None, None, None, None, None, None, None, None, None, None, None, None, None, None, None, None, None, None, None, None, None, None, None, None]\n"
     ]
    }
   ],
   "source": [
    "n = int(input(\"Enter the number of elements: \"))\n",
    "\n",
    "for i in range(n):\n",
    "    ele = int(input(\"Enter the element: \"))\n",
    "    array[i] = ele\n",
    "\n",
    "print(array)"
   ]
  },
  {
   "cell_type": "markdown",
   "id": "439b39e5",
   "metadata": {},
   "source": [
    "## Insertion in Array\n",
    "\n",
    "Insertion operation as the name says means to \"add\" an element to the array. There can be three types of insertion operation in an array\n",
    "- Insertion at the beginning\n",
    "- Insertion at the End\n",
    "- Insertion at ith Index"
   ]
  },
  {
   "cell_type": "markdown",
   "id": "60d1440f",
   "metadata": {},
   "source": [
    "### Insertion an beginning\n",
    "\n",
    "To insert an element at the beginning we will need to shift all current elements one place back, and then when the oth index is free to use we will add the new element.  \n",
    "Time complexity of insertion at beginning is `O(n)` as the pointer have to shift n times to reach the beginning"
   ]
  },
  {
   "cell_type": "code",
   "execution_count": 5,
   "id": "a7029af5",
   "metadata": {},
   "outputs": [
    {
     "name": "stdout",
     "output_type": "stream",
     "text": [
      "Array after insertion of 3 at first place: \n",
      "[3, 1, 5, 6, 9, 2, None, None, None, None, None, None, None, None, None, None, None, None, None, None, None, None, None, None, None, None, None, None, None, None, None, None, None, None, None, None, None, None, None, None, None, None, None, None, None, None, None, None, None, None, None, None, None, None, None, None, None, None, None, None, None, None, None, None, None, None, None, None, None, None, None, None, None, None, None, None, None, None, None, None, None, None, None, None, None, None, None, None, None, None, None, None, None, None, None, None, None, None, None, None]\n"
     ]
    }
   ],
   "source": [
    "new_ele = int(input(\"Enter the element to be inserted in the first place: \"))\n",
    "\n",
    "for i in range(n, 0, -1):\n",
    "    array[i] = array[i - 1]\n",
    "\n",
    "array[0] = new_ele\n",
    "n += 1\n",
    "\n",
    "print(f\"Array after insertion of {new_ele} at first place: \")\n",
    "print(array)"
   ]
  },
  {
   "cell_type": "markdown",
   "id": "28dc179d",
   "metadata": {},
   "source": [
    "### Insertion at end\n",
    "\n",
    "To inert the element at the end we simply insert a new element to the nth index.  \n",
    "The time complexity of insertion at the end is `O(1)` as the pointer already points to the end."
   ]
  },
  {
   "cell_type": "code",
   "execution_count": 6,
   "id": "38ba6c5b",
   "metadata": {},
   "outputs": [
    {
     "name": "stdout",
     "output_type": "stream",
     "text": [
      "Array after insertion of 8 at the end: \n",
      "[3, 1, 5, 6, 9, 2, 8, None, None, None, None, None, None, None, None, None, None, None, None, None, None, None, None, None, None, None, None, None, None, None, None, None, None, None, None, None, None, None, None, None, None, None, None, None, None, None, None, None, None, None, None, None, None, None, None, None, None, None, None, None, None, None, None, None, None, None, None, None, None, None, None, None, None, None, None, None, None, None, None, None, None, None, None, None, None, None, None, None, None, None, None, None, None, None, None, None, None, None, None, None]\n"
     ]
    }
   ],
   "source": [
    "new_ele = int(input(\"Enter the element to be inserted at the end: \"))\n",
    "\n",
    "array[n] = new_ele\n",
    "n += 1\n",
    "\n",
    "print(f\"Array after insertion of {new_ele} at the end: \")\n",
    "print(array)"
   ]
  },
  {
   "cell_type": "markdown",
   "id": "a9d17843",
   "metadata": {},
   "source": [
    "### Insertion at ith index\n",
    "\n",
    "To insert at ith index is similar to how we inserted at the beginning, only difference is that we shift the pointer only till the ith index.  \n",
    "Time complexity of this insertion is `O(n)`"
   ]
  },
  {
   "cell_type": "code",
   "execution_count": null,
   "id": "b4b9feda",
   "metadata": {},
   "outputs": [
    {
     "name": "stdout",
     "output_type": "stream",
     "text": [
      "Array after insertion of 7 at index 2\n",
      "[3, 1, 7, 5, 6, 9, 2, 8, None, None, None, None, None, None, None, None, None, None, None, None, None, None, None, None, None, None, None, None, None, None, None, None, None, None, None, None, None, None, None, None, None, None, None, None, None, None, None, None, None, None, None, None, None, None, None, None, None, None, None, None, None, None, None, None, None, None, None, None, None, None, None, None, None, None, None, None, None, None, None, None, None, None, None, None, None, None, None, None, None, None, None, None, None, None, None, None, None, None, None, None]\n"
     ]
    }
   ],
   "source": [
    "j = int(input(\"Enter the index at which the element is to be inserted: \"))\n",
    "new_ele = int(input(f\"Enter The element to be inserted at index {i}: \"))\n",
    "\n",
    "for i in range(n, j-1, -1):\n",
    "    array[i] = array[i-1]\n",
    "\n",
    "array[i] = new_ele\n",
    "n += 1\n",
    "\n",
    "print(f\"Array after insertion of {new_ele} at index {j}\")\n",
    "print(array)"
   ]
  },
  {
   "cell_type": "markdown",
   "id": "17c893f9",
   "metadata": {},
   "source": [
    "## Deletion in an Array\n",
    "\n",
    "Deletion operation as the name says means to \"remove\" an element from the array. There can be three types of deletion operation that can be performed on an array:\n",
    "- Deletion at the beginning\n",
    "- Deletion at the end\n",
    "- Deletion ar ith index"
   ]
  },
  {
   "cell_type": "markdown",
   "id": "e4c63d52",
   "metadata": {},
   "source": [
    "### Deletion at the beginning\n",
    "\n",
    "To delete an element from the beginning we traverse the array in a forward fashion and keep overwriting the elements till the end is reached. The time complexity of this type of deletion is `O(n)` as the pointer needs to traverse the entire array."
   ]
  },
  {
   "cell_type": "code",
   "execution_count": 14,
   "id": "897d0290",
   "metadata": {},
   "outputs": [
    {
     "name": "stdout",
     "output_type": "stream",
     "text": [
      "Array after deletion at the beginning: \n",
      "[1, 7, 5, 6, 9, 2, 8, None, None, None, None, None, None, None, None, None, None, None, None, None, None, None, None, None, None, None, None, None, None, None, None, None, None, None, None, None, None, None, None, None, None, None, None, None, None, None, None, None, None, None, None, None, None, None, None, None, None, None, None, None, None, None, None, None, None, None, None, None, None, None, None, None, None, None, None, None, None, None, None, None, None, None, None, None, None, None, None, None, None, None, None, None, None, None, None, None, None, None, None, None]\n"
     ]
    }
   ],
   "source": [
    "for i in range(n-1):\n",
    "    array[i] = array[i+1]\n",
    "\n",
    "array[i+1] = None\n",
    "n -= 1\n",
    "\n",
    "print(f\"Array after deletion at the beginning: \")\n",
    "print(array)"
   ]
  },
  {
   "cell_type": "markdown",
   "id": "f14998de",
   "metadata": {},
   "source": [
    "### Deletion at the end\n",
    "\n",
    "To delete an element at the end we simple read the element till `n-1` position. Thus this has a time complexity of `O(1)`"
   ]
  },
  {
   "cell_type": "code",
   "execution_count": null,
   "id": "19519929",
   "metadata": {},
   "outputs": [
    {
     "name": "stdout",
     "output_type": "stream",
     "text": [
      "Array after deletion of an element at the end: \n",
      "[1, 7, 5, 6, 9, 2, None, None, None, None, None, None, None, None, None, None, None, None, None, None, None, None, None, None, None, None, None, None, None, None, None, None, None, None, None, None, None, None, None, None, None, None, None, None, None, None, None, None, None, None, None, None, None, None, None, None, None, None, None, None, None, None, None, None, None, None, None, None, None, None, None, None, None, None, None, None, None, None, None, None, None, None, None, None, None, None, None, None, None, None, None, None, None, None, None, None, None, None, None, None]\n"
     ]
    }
   ],
   "source": [
    "n -= 1\n",
    "array[n] = None\n",
    "\n",
    "print(\"Array after deletion of an element at the end: \")\n",
    "print(array)"
   ]
  },
  {
   "cell_type": "markdown",
   "id": "a6db0588",
   "metadata": {},
   "source": [
    "### Deletion at ith index\n",
    "\n",
    "To delete an element at ith index we move the pointer to the ith position and then we perform our deletion similar to the \"deletion at beginning\". The time complexity of this operation is `O(n)`."
   ]
  },
  {
   "cell_type": "code",
   "execution_count": 18,
   "id": "9e642d78",
   "metadata": {},
   "outputs": [
    {
     "name": "stdout",
     "output_type": "stream",
     "text": [
      "Array after deletion of element from index 5: \n",
      "[1, 5, 6, 9, 2, None, None, None, None, None, None, None, None, None, None, None, None, None, None, None, None, None, None, None, None, None, None, None, None, None, None, None, None, None, None, None, None, None, None, None, None, None, None, None, None, None, None, None, None, None, None, None, None, None, None, None, None, None, None, None, None, None, None, None, None, None, None, None, None, None, None, None, None, None, None, None, None, None, None, None, None, None, None, None, None, None, None, None, None, None, None, None, None, None, None, None, None, None, None, None]\n"
     ]
    }
   ],
   "source": [
    "j = int(input(\"Enter the index to delete: \"))\n",
    "\n",
    "for i in range(j, n):\n",
    "    array[i] = array[i+1]\n",
    "\n",
    "n -= 1\n",
    "array[n] = None\n",
    "\n",
    "print(f\"Array after deletion of element from index {i}: \")\n",
    "print(array)"
   ]
  }
 ],
 "metadata": {
  "kernelspec": {
   "display_name": "Python 3",
   "language": "python",
   "name": "python3"
  },
  "language_info": {
   "codemirror_mode": {
    "name": "ipython",
    "version": 3
   },
   "file_extension": ".py",
   "mimetype": "text/x-python",
   "name": "python",
   "nbconvert_exporter": "python",
   "pygments_lexer": "ipython3",
   "version": "3.13.7"
  }
 },
 "nbformat": 4,
 "nbformat_minor": 5
}
