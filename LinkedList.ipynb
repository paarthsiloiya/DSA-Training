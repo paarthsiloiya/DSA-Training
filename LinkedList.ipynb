{
 "cells": [
  {
   "cell_type": "markdown",
   "id": "42171f7f",
   "metadata": {},
   "source": [
    "# **Linked Lists**\n",
    "\n",
    "A Linked List is a linear data structure where elements are stored in nodes, and each node contains data and a reference (or link) to the next node in the sequence. Unlike arrays, linked lists do not store elements in contiguous memory locations.\n",
    "\n",
    "**Key Features:**\n",
    "- Dynamic size (can grow or shrink during runtime)\n",
    "- Sequential access (elements must be accessed sequentially)\n",
    "- Each node contains data and a pointer to the next node\n",
    "- Memory efficient as it allocates memory as needed\n",
    "\n",
    "**Structure of a Node:**\n",
    "```\n",
    "[Data | Next] -> [Data | Next] -> [Data | Next] -> NULL\n",
    "```"
   ]
  },
  {
   "cell_type": "markdown",
   "id": "97237709",
   "metadata": {},
   "source": [
    "## Node Definition\n",
    "\n",
    "A node is the basic building block of a linked list. Each node contains:\n",
    "- **Data**: The actual value stored in the node\n",
    "- **Next**: A reference/pointer to the next node in the list\n",
    "\n",
    "Let's define a Node class:"
   ]
  },
  {
   "cell_type": "code",
   "execution_count": 1,
   "id": "6f20d238",
   "metadata": {},
   "outputs": [
    {
     "name": "stdout",
     "output_type": "stream",
     "text": [
      "Node 1: 10, Next: 20\n",
      "Node 2: 20, Next: 30\n",
      "Node 3: 30, Next: None\n"
     ]
    }
   ],
   "source": [
    "class Node:\n",
    "    def __init__(self, data):\n",
    "        self.data = data    # Store the data\n",
    "        self.next = None    # Initialize next as None (no connection initially)\n",
    "    \n",
    "    def __str__(self):\n",
    "        return str(self.data)\n",
    "\n",
    "# Example of creating nodes\n",
    "node1 = Node(10)\n",
    "node2 = Node(20)\n",
    "node3 = Node(30)\n",
    "\n",
    "# Linking nodes manually\n",
    "node1.next = node2\n",
    "node2.next = node3\n",
    "\n",
    "print(f\"Node 1: {node1.data}, Next: {node1.next.data if node1.next else None}\")\n",
    "print(f\"Node 2: {node2.data}, Next: {node2.next.data if node2.next else None}\")\n",
    "print(f\"Node 3: {node3.data}, Next: {node3.next}\")"
   ]
  },
  {
   "cell_type": "markdown",
   "id": "fdbbe0ce",
   "metadata": {},
   "source": [
    "## Linked List Class\n",
    "\n",
    "Now let's create a LinkedList class to manage our nodes and perform various operations:"
   ]
  },
  {
   "cell_type": "code",
   "execution_count": 2,
   "id": "181714ab",
   "metadata": {},
   "outputs": [
    {
     "name": "stdout",
     "output_type": "stream",
     "text": [
      "Is list empty? True\n",
      "Size of list: 0\n",
      "List is empty\n"
     ]
    }
   ],
   "source": [
    "class LinkedList:\n",
    "    def __init__(self):\n",
    "        self.head = None  # Initialize head as None (empty list)\n",
    "        self.size = 0     # Keep track of list size\n",
    "    \n",
    "    def is_empty(self):\n",
    "        return self.head is None\n",
    "    \n",
    "    def get_size(self):\n",
    "        return self.size\n",
    "    \n",
    "    def display(self):\n",
    "        if self.is_empty():\n",
    "            print(\"List is empty\")\n",
    "            return\n",
    "        \n",
    "        current = self.head\n",
    "        elements = []\n",
    "        while current:\n",
    "            elements.append(str(current.data))\n",
    "            current = current.next\n",
    "        print(\" -> \".join(elements) + \" -> NULL\")\n",
    "\n",
    "# Create an empty linked list\n",
    "ll = LinkedList()\n",
    "print(f\"Is list empty? {ll.is_empty()}\")\n",
    "print(f\"Size of list: {ll.get_size()}\")\n",
    "ll.display()"
   ]
  },
  {
   "cell_type": "markdown",
   "id": "5e321286",
   "metadata": {},
   "source": [
    "## Insertion in Linked List\n",
    "\n",
    "Insertion operation means adding a new node to the linked list. There are three types of insertion operations:\n",
    "- Insertion at the beginning\n",
    "- Insertion at the end\n",
    "- Insertion at a specific position"
   ]
  },
  {
   "cell_type": "markdown",
   "id": "bd38676b",
   "metadata": {},
   "source": [
    "### Insertion at the Beginning\n",
    "\n",
    "To insert a node at the beginning:\n",
    "1. Create a new node\n",
    "2. Point the new node's next to the current head\n",
    "3. Update head to point to the new node\n",
    "\n",
    "Time complexity: `O(1)` - constant time as we only update pointers"
   ]
  },
  {
   "cell_type": "code",
   "execution_count": 3,
   "id": "07b5449b",
   "metadata": {},
   "outputs": [
    {
     "name": "stdout",
     "output_type": "stream",
     "text": [
      "Inserted 10 at the beginning\n",
      "10 -> NULL\n",
      "Inserted 20 at the beginning\n",
      "20 -> 10 -> NULL\n",
      "Inserted 30 at the beginning\n",
      "30 -> 20 -> 10 -> NULL\n",
      "Size: 3\n"
     ]
    }
   ],
   "source": [
    "def insert_at_beginning(self, data):\n",
    "    new_node = Node(data)\n",
    "    new_node.next = self.head  # Point new node to current head\n",
    "    self.head = new_node       # Update head to new node\n",
    "    self.size += 1\n",
    "    print(f\"Inserted {data} at the beginning\")\n",
    "\n",
    "# Add method to LinkedList class\n",
    "LinkedList.insert_at_beginning = insert_at_beginning\n",
    "\n",
    "# Test insertion at beginning\n",
    "ll = LinkedList()\n",
    "ll.insert_at_beginning(10)\n",
    "ll.display()\n",
    "\n",
    "ll.insert_at_beginning(20)\n",
    "ll.display()\n",
    "\n",
    "ll.insert_at_beginning(30)\n",
    "ll.display()\n",
    "print(f\"Size: {ll.get_size()}\")"
   ]
  },
  {
   "cell_type": "markdown",
   "id": "c365c7c5",
   "metadata": {},
   "source": [
    "### Insertion at the End\n",
    "\n",
    "To insert a node at the end:\n",
    "1. Create a new node\n",
    "2. If list is empty, make new node the head\n",
    "3. Otherwise, traverse to the last node and update its next pointer\n",
    "\n",
    "Time complexity: `O(n)` - we need to traverse to the end"
   ]
  },
  {
   "cell_type": "code",
   "execution_count": 4,
   "id": "3def7105",
   "metadata": {},
   "outputs": [
    {
     "name": "stdout",
     "output_type": "stream",
     "text": [
      "Inserted 40 at the end\n",
      "30 -> 20 -> 10 -> 40 -> NULL\n",
      "Inserted 50 at the end\n",
      "30 -> 20 -> 10 -> 40 -> 50 -> NULL\n",
      "Size: 5\n"
     ]
    }
   ],
   "source": [
    "def insert_at_end(self, data):\n",
    "    new_node = Node(data)\n",
    "    \n",
    "    if self.is_empty():\n",
    "        self.head = new_node\n",
    "    else:\n",
    "        current = self.head\n",
    "        while current.next:  # Traverse to the last node\n",
    "            current = current.next\n",
    "        current.next = new_node  # Link the last node to new node\n",
    "    \n",
    "    self.size += 1\n",
    "    print(f\"Inserted {data} at the end\")\n",
    "\n",
    "# Add method to LinkedList class\n",
    "LinkedList.insert_at_end = insert_at_end\n",
    "\n",
    "# Test insertion at end\n",
    "ll.insert_at_end(40)\n",
    "ll.display()\n",
    "\n",
    "ll.insert_at_end(50)\n",
    "ll.display()\n",
    "print(f\"Size: {ll.get_size()}\")"
   ]
  },
  {
   "cell_type": "markdown",
   "id": "eb5ff39d",
   "metadata": {},
   "source": [
    "### Insertion at Specific Position\n",
    "\n",
    "To insert a node at a specific position:\n",
    "1. Create a new node\n",
    "2. If position is 0, insert at beginning\n",
    "3. Otherwise, traverse to position-1 and update pointers\n",
    "\n",
    "Time complexity: `O(n)` - we may need to traverse to the position"
   ]
  },
  {
   "cell_type": "code",
   "execution_count": 5,
   "id": "b5a9915b",
   "metadata": {},
   "outputs": [
    {
     "name": "stdout",
     "output_type": "stream",
     "text": [
      "Inserted 25 at position 2\n",
      "30 -> 20 -> 25 -> 10 -> 40 -> 50 -> NULL\n",
      "Inserted 35 at position 4\n",
      "30 -> 20 -> 25 -> 10 -> 35 -> 40 -> 50 -> NULL\n",
      "Size: 7\n"
     ]
    }
   ],
   "source": [
    "def insert_at_position(self, data, position):\n",
    "    if position < 0 or position > self.size:\n",
    "        print(\"Invalid position\")\n",
    "        return\n",
    "    \n",
    "    if position == 0:\n",
    "        self.insert_at_beginning(data)\n",
    "        return\n",
    "    \n",
    "    new_node = Node(data)\n",
    "    current = self.head\n",
    "    \n",
    "    # Traverse to position-1\n",
    "    for i in range(position - 1):\n",
    "        current = current.next\n",
    "    \n",
    "    # Update pointers\n",
    "    new_node.next = current.next\n",
    "    current.next = new_node\n",
    "    self.size += 1\n",
    "    print(f\"Inserted {data} at position {position}\")\n",
    "\n",
    "# Add method to LinkedList class\n",
    "LinkedList.insert_at_position = insert_at_position\n",
    "\n",
    "# Test insertion at specific position\n",
    "ll.insert_at_position(25, 2)  # Insert 25 at position 2\n",
    "ll.display()\n",
    "\n",
    "ll.insert_at_position(35, 4)  # Insert 35 at position 4\n",
    "ll.display()\n",
    "print(f\"Size: {ll.get_size()}\")"
   ]
  },
  {
   "cell_type": "markdown",
   "id": "69b91b69",
   "metadata": {},
   "source": [
    "## Deletion in Linked List\n",
    "\n",
    "Deletion operation means removing a node from the linked list. There are three types of deletion operations:\n",
    "- Deletion from the beginning\n",
    "- Deletion from the end\n",
    "- Deletion from a specific position"
   ]
  },
  {
   "cell_type": "markdown",
   "id": "eb27de8d",
   "metadata": {},
   "source": [
    "### Deletion from the Beginning\n",
    "\n",
    "To delete a node from the beginning:\n",
    "1. Check if list is empty\n",
    "2. Update head to point to the second node\n",
    "3. The first node will be garbage collected\n",
    "\n",
    "Time complexity: `O(1)` - constant time"
   ]
  },
  {
   "cell_type": "code",
   "execution_count": 6,
   "id": "683a466c",
   "metadata": {},
   "outputs": [
    {
     "name": "stdout",
     "output_type": "stream",
     "text": [
      "Before deletion:\n",
      "30 -> 20 -> 25 -> 10 -> 35 -> 40 -> 50 -> NULL\n",
      "Deleted 30 from the beginning\n",
      "After deletion:\n",
      "20 -> 25 -> 10 -> 35 -> 40 -> 50 -> NULL\n",
      "Size: 6\n"
     ]
    }
   ],
   "source": [
    "def delete_from_beginning(self):\n",
    "    if self.is_empty():\n",
    "        print(\"List is empty, cannot delete\")\n",
    "        return None\n",
    "    \n",
    "    deleted_data = self.head.data\n",
    "    self.head = self.head.next  # Move head to next node\n",
    "    self.size -= 1\n",
    "    print(f\"Deleted {deleted_data} from the beginning\")\n",
    "    return deleted_data\n",
    "\n",
    "# Add method to LinkedList class\n",
    "LinkedList.delete_from_beginning = delete_from_beginning\n",
    "\n",
    "# Test deletion from beginning\n",
    "print(\"Before deletion:\")\n",
    "ll.display()\n",
    "\n",
    "ll.delete_from_beginning()\n",
    "print(\"After deletion:\")\n",
    "ll.display()\n",
    "print(f\"Size: {ll.get_size()}\")"
   ]
  },
  {
   "cell_type": "markdown",
   "id": "999eedbd",
   "metadata": {},
   "source": [
    "### Deletion from the End\n",
    "\n",
    "To delete a node from the end:\n",
    "1. Check if list is empty\n",
    "2. If only one node, delete it and update head\n",
    "3. Otherwise, traverse to second last node and update its next pointer\n",
    "\n",
    "Time complexity: `O(n)` - we need to traverse to the second last node"
   ]
  },
  {
   "cell_type": "code",
   "execution_count": 7,
   "id": "ecada994",
   "metadata": {},
   "outputs": [
    {
     "name": "stdout",
     "output_type": "stream",
     "text": [
      "Before deletion:\n",
      "20 -> 25 -> 10 -> 35 -> 40 -> 50 -> NULL\n",
      "Deleted 50 from the end\n",
      "After deletion:\n",
      "20 -> 25 -> 10 -> 35 -> 40 -> NULL\n",
      "Size: 5\n"
     ]
    }
   ],
   "source": [
    "def delete_from_end(self):\n",
    "    if self.is_empty():\n",
    "        print(\"List is empty, cannot delete\")\n",
    "        return None\n",
    "    \n",
    "    if self.head.next is None:  # Only one node\n",
    "        deleted_data = self.head.data\n",
    "        self.head = None\n",
    "        self.size -= 1\n",
    "        print(f\"Deleted {deleted_data} from the end\")\n",
    "        return deleted_data\n",
    "    \n",
    "    # Traverse to second last node\n",
    "    current = self.head\n",
    "    while current.next.next:\n",
    "        current = current.next\n",
    "    \n",
    "    deleted_data = current.next.data\n",
    "    current.next = None  # Remove reference to last node\n",
    "    self.size -= 1\n",
    "    print(f\"Deleted {deleted_data} from the end\")\n",
    "    return deleted_data\n",
    "\n",
    "# Add method to LinkedList class\n",
    "LinkedList.delete_from_end = delete_from_end\n",
    "\n",
    "# Test deletion from end\n",
    "print(\"Before deletion:\")\n",
    "ll.display()\n",
    "\n",
    "ll.delete_from_end()\n",
    "print(\"After deletion:\")\n",
    "ll.display()\n",
    "print(f\"Size: {ll.get_size()}\")"
   ]
  },
  {
   "cell_type": "markdown",
   "id": "c5738702",
   "metadata": {},
   "source": [
    "### Deletion from Specific Position\n",
    "\n",
    "To delete a node from a specific position:\n",
    "1. Check if position is valid\n",
    "2. If position is 0, delete from beginning\n",
    "3. Otherwise, traverse to position-1 and update pointers\n",
    "\n",
    "Time complexity: `O(n)` - we may need to traverse to the position"
   ]
  },
  {
   "cell_type": "code",
   "execution_count": 8,
   "id": "54ef4b2b",
   "metadata": {},
   "outputs": [
    {
     "name": "stdout",
     "output_type": "stream",
     "text": [
      "Before deletion:\n",
      "20 -> 25 -> 10 -> 35 -> 40 -> NULL\n",
      "Deleted 25 from position 1\n",
      "After deletion:\n",
      "20 -> 10 -> 35 -> 40 -> NULL\n",
      "Size: 4\n"
     ]
    }
   ],
   "source": [
    "def delete_from_position(self, position):\n",
    "    if position < 0 or position >= self.size:\n",
    "        print(\"Invalid position\")\n",
    "        return None\n",
    "    \n",
    "    if position == 0:\n",
    "        return self.delete_from_beginning()\n",
    "    \n",
    "    current = self.head\n",
    "    \n",
    "    # Traverse to position-1\n",
    "    for i in range(position - 1):\n",
    "        current = current.next\n",
    "    \n",
    "    deleted_data = current.next.data\n",
    "    current.next = current.next.next  # Skip the node to be deleted\n",
    "    self.size -= 1\n",
    "    print(f\"Deleted {deleted_data} from position {position}\")\n",
    "    return deleted_data\n",
    "\n",
    "# Add method to LinkedList class\n",
    "LinkedList.delete_from_position = delete_from_position\n",
    "\n",
    "# Test deletion from specific position\n",
    "print(\"Before deletion:\")\n",
    "ll.display()\n",
    "\n",
    "ll.delete_from_position(1)  # Delete from position 1\n",
    "print(\"After deletion:\")\n",
    "ll.display()\n",
    "print(f\"Size: {ll.get_size()}\")"
   ]
  },
  {
   "cell_type": "markdown",
   "id": "14aa1eb2",
   "metadata": {},
   "source": [
    "## Update at Specific Position\n",
    "\n",
    "Update operation means changing the data of a node at a specific position without changing the structure of the list.\n",
    "\n",
    "Time complexity: `O(n)` - we need to traverse to the position"
   ]
  },
  {
   "cell_type": "code",
   "execution_count": 9,
   "id": "0499cc3e",
   "metadata": {},
   "outputs": [
    {
     "name": "stdout",
     "output_type": "stream",
     "text": [
      "Before update:\n",
      "20 -> 10 -> 35 -> 40 -> NULL\n",
      "Updated position 1: 10 -> 100\n",
      "After update:\n",
      "20 -> 100 -> 35 -> 40 -> NULL\n"
     ]
    }
   ],
   "source": [
    "def update_at_position(self, position, new_data):\n",
    "    if position < 0 or position >= self.size:\n",
    "        print(\"Invalid position\")\n",
    "        return False\n",
    "    \n",
    "    current = self.head\n",
    "    \n",
    "    # Traverse to the position\n",
    "    for i in range(position):\n",
    "        current = current.next\n",
    "    \n",
    "    old_data = current.data\n",
    "    current.data = new_data\n",
    "    print(f\"Updated position {position}: {old_data} -> {new_data}\")\n",
    "    return True\n",
    "\n",
    "# Add method to LinkedList class\n",
    "LinkedList.update_at_position = update_at_position\n",
    "\n",
    "# Test update at specific position\n",
    "print(\"Before update:\")\n",
    "ll.display()\n",
    "\n",
    "ll.update_at_position(1, 100)  # Update position 1 to 100\n",
    "print(\"After update:\")\n",
    "ll.display()"
   ]
  },
  {
   "cell_type": "markdown",
   "id": "43eb9f25",
   "metadata": {},
   "source": [
    "## Search in Linked List\n",
    "\n",
    "Search operation finds the position of a specific element in the linked list.\n",
    "\n",
    "Time complexity: `O(n)` - we may need to traverse the entire list"
   ]
  },
  {
   "cell_type": "code",
   "execution_count": 10,
   "id": "b054c73a",
   "metadata": {},
   "outputs": [
    {
     "name": "stdout",
     "output_type": "stream",
     "text": [
      "Element 100 found at position 1\n",
      "Element 999 not found in the list\n"
     ]
    },
    {
     "data": {
      "text/plain": [
       "-1"
      ]
     },
     "execution_count": 10,
     "metadata": {},
     "output_type": "execute_result"
    }
   ],
   "source": [
    "def search(self, data):\n",
    "    if self.is_empty():\n",
    "        return -1\n",
    "    \n",
    "    current = self.head\n",
    "    position = 0\n",
    "    \n",
    "    while current:\n",
    "        if current.data == data:\n",
    "            print(f\"Element {data} found at position {position}\")\n",
    "            return position\n",
    "        current = current.next\n",
    "        position += 1\n",
    "    \n",
    "    print(f\"Element {data} not found in the list\")\n",
    "    return -1\n",
    "\n",
    "# Add method to LinkedList class\n",
    "LinkedList.search = search\n",
    "\n",
    "# Test search\n",
    "ll.search(100)  # Should find at position 1\n",
    "ll.search(999)  # Should not find"
   ]
  },
  {
   "cell_type": "markdown",
   "id": "7ebfeb31",
   "metadata": {},
   "source": [
    "## Reverse a Linked List\n",
    "\n",
    "Reversing a linked list means changing the direction of all pointers so that the last node becomes the first and vice versa.\n",
    "\n",
    "Time complexity: `O(n)` - we need to traverse the entire list once"
   ]
  },
  {
   "cell_type": "code",
   "execution_count": 11,
   "id": "11555e5c",
   "metadata": {},
   "outputs": [
    {
     "name": "stdout",
     "output_type": "stream",
     "text": [
      "Before reverse:\n",
      "20 -> 100 -> 35 -> 40 -> NULL\n",
      "Linked list reversed\n",
      "After reverse:\n",
      "40 -> 35 -> 100 -> 20 -> NULL\n"
     ]
    }
   ],
   "source": [
    "def reverse(self):\n",
    "    if self.is_empty() or self.head.next is None:\n",
    "        return\n",
    "    \n",
    "    prev = None\n",
    "    current = self.head\n",
    "    \n",
    "    while current:\n",
    "        next_node = current.next  # Store next node\n",
    "        current.next = prev       # Reverse the pointer\n",
    "        prev = current           # Move prev forward\n",
    "        current = next_node      # Move current forward\n",
    "    \n",
    "    self.head = prev  # Update head to the last node\n",
    "    print(\"Linked list reversed\")\n",
    "\n",
    "# Add method to LinkedList class\n",
    "LinkedList.reverse = reverse\n",
    "\n",
    "# Test reverse\n",
    "print(\"Before reverse:\")\n",
    "ll.display()\n",
    "\n",
    "ll.reverse()\n",
    "print(\"After reverse:\")\n",
    "ll.display()"
   ]
  },
  {
   "cell_type": "markdown",
   "id": "4d244785",
   "metadata": {},
   "source": [
    "## Find Middle Element\n",
    "\n",
    "Finding the middle element of a linked list can be done efficiently using the \"two-pointer\" technique.\n",
    "\n",
    "Time complexity: `O(n)` - single traversal"
   ]
  },
  {
   "cell_type": "code",
   "execution_count": 12,
   "id": "b7f2817e",
   "metadata": {},
   "outputs": [
    {
     "name": "stdout",
     "output_type": "stream",
     "text": [
      "Middle element: 100\n",
      "Inserted 200 at the end\n",
      "40 -> 35 -> 100 -> 20 -> 200 -> NULL\n",
      "Middle element: 100\n"
     ]
    },
    {
     "data": {
      "text/plain": [
       "100"
      ]
     },
     "execution_count": 12,
     "metadata": {},
     "output_type": "execute_result"
    }
   ],
   "source": [
    "def find_middle(self):\n",
    "    if self.is_empty():\n",
    "        print(\"List is empty\")\n",
    "        return None\n",
    "    \n",
    "    slow = self.head  # Moves one step at a time\n",
    "    fast = self.head  # Moves two steps at a time\n",
    "    \n",
    "    while fast and fast.next:\n",
    "        slow = slow.next\n",
    "        fast = fast.next.next\n",
    "    \n",
    "    print(f\"Middle element: {slow.data}\")\n",
    "    return slow.data\n",
    "\n",
    "# Add method to LinkedList class\n",
    "LinkedList.find_middle = find_middle\n",
    "\n",
    "# Test find middle\n",
    "ll.find_middle()\n",
    "\n",
    "# Add one more element to test with even number of elements\n",
    "ll.insert_at_end(200)\n",
    "ll.display()\n",
    "ll.find_middle()"
   ]
  },
  {
   "cell_type": "markdown",
   "id": "b606b2e2",
   "metadata": {},
   "source": [
    "## Complete LinkedList Implementation\n",
    "\n",
    "Let's create a complete implementation with all operations:"
   ]
  },
  {
   "cell_type": "code",
   "execution_count": 13,
   "id": "808f9387",
   "metadata": {},
   "outputs": [
    {
     "name": "stdout",
     "output_type": "stream",
     "text": [
      "=== Testing Complete LinkedList Implementation ===\n",
      "Inserted 10 at the beginning\n",
      "Inserted 20 at the end\n",
      "Inserted 15 at position 1\n",
      "10 -> 15 -> 20 -> NULL\n",
      "Deleted 10 from the beginning\n",
      "15 -> 20 -> NULL\n",
      "Deleted 20 from the end\n",
      "15 -> NULL\n",
      "Final size: 1\n"
     ]
    }
   ],
   "source": [
    "class CompleteLinkedList:\n",
    "    def __init__(self):\n",
    "        self.head = None\n",
    "        self.size = 0\n",
    "    \n",
    "    def is_empty(self):\n",
    "        return self.head is None\n",
    "    \n",
    "    def get_size(self):\n",
    "        return self.size\n",
    "    \n",
    "    def display(self):\n",
    "        if self.is_empty():\n",
    "            print(\"List is empty\")\n",
    "            return\n",
    "        \n",
    "        current = self.head\n",
    "        elements = []\n",
    "        while current:\n",
    "            elements.append(str(current.data))\n",
    "            current = current.next\n",
    "        print(\" -> \".join(elements) + \" -> NULL\")\n",
    "    \n",
    "    def insert_at_beginning(self, data):\n",
    "        new_node = Node(data)\n",
    "        new_node.next = self.head\n",
    "        self.head = new_node\n",
    "        self.size += 1\n",
    "        print(f\"Inserted {data} at the beginning\")\n",
    "    \n",
    "    def insert_at_end(self, data):\n",
    "        new_node = Node(data)\n",
    "        \n",
    "        if self.is_empty():\n",
    "            self.head = new_node\n",
    "        else:\n",
    "            current = self.head\n",
    "            while current.next:\n",
    "                current = current.next\n",
    "            current.next = new_node\n",
    "        \n",
    "        self.size += 1\n",
    "        print(f\"Inserted {data} at the end\")\n",
    "    \n",
    "    def insert_at_position(self, data, position):\n",
    "        if position < 0 or position > self.size:\n",
    "            print(\"Invalid position\")\n",
    "            return\n",
    "        \n",
    "        if position == 0:\n",
    "            self.insert_at_beginning(data)\n",
    "            return\n",
    "        \n",
    "        new_node = Node(data)\n",
    "        current = self.head\n",
    "        \n",
    "        for i in range(position - 1):\n",
    "            current = current.next\n",
    "        \n",
    "        new_node.next = current.next\n",
    "        current.next = new_node\n",
    "        self.size += 1\n",
    "        print(f\"Inserted {data} at position {position}\")\n",
    "    \n",
    "    def delete_from_beginning(self):\n",
    "        if self.is_empty():\n",
    "            print(\"List is empty, cannot delete\")\n",
    "            return None\n",
    "        \n",
    "        deleted_data = self.head.data\n",
    "        self.head = self.head.next\n",
    "        self.size -= 1\n",
    "        print(f\"Deleted {deleted_data} from the beginning\")\n",
    "        return deleted_data\n",
    "    \n",
    "    def delete_from_end(self):\n",
    "        if self.is_empty():\n",
    "            print(\"List is empty, cannot delete\")\n",
    "            return None\n",
    "        \n",
    "        if self.head.next is None:\n",
    "            deleted_data = self.head.data\n",
    "            self.head = None\n",
    "            self.size -= 1\n",
    "            print(f\"Deleted {deleted_data} from the end\")\n",
    "            return deleted_data\n",
    "        \n",
    "        current = self.head\n",
    "        while current.next.next:\n",
    "            current = current.next\n",
    "        \n",
    "        deleted_data = current.next.data\n",
    "        current.next = None\n",
    "        self.size -= 1\n",
    "        print(f\"Deleted {deleted_data} from the end\")\n",
    "        return deleted_data\n",
    "    \n",
    "    def delete_from_position(self, position):\n",
    "        if position < 0 or position >= self.size:\n",
    "            print(\"Invalid position\")\n",
    "            return None\n",
    "        \n",
    "        if position == 0:\n",
    "            return self.delete_from_beginning()\n",
    "        \n",
    "        current = self.head\n",
    "        \n",
    "        for i in range(position - 1):\n",
    "            current = current.next\n",
    "        \n",
    "        deleted_data = current.next.data\n",
    "        current.next = current.next.next\n",
    "        self.size -= 1\n",
    "        print(f\"Deleted {deleted_data} from position {position}\")\n",
    "        return deleted_data\n",
    "\n",
    "# Test the complete implementation\n",
    "print(\"=== Testing Complete LinkedList Implementation ===\")\n",
    "cll = CompleteLinkedList()\n",
    "\n",
    "# Test insertions\n",
    "cll.insert_at_beginning(10)\n",
    "cll.insert_at_end(20)\n",
    "cll.insert_at_position(15, 1)\n",
    "cll.display()\n",
    "\n",
    "# Test deletions\n",
    "cll.delete_from_beginning()\n",
    "cll.display()\n",
    "\n",
    "cll.delete_from_end()\n",
    "cll.display()\n",
    "\n",
    "print(f\"Final size: {cll.get_size()}\")"
   ]
  },
  {
   "cell_type": "markdown",
   "id": "70a45670",
   "metadata": {},
   "source": [
    "## Time Complexity Summary\n",
    "\n",
    "| Operation | Array | Linked List |\n",
    "|-----------|-------|-------------|\n",
    "| **Insertion at beginning** | O(n) | O(1) |\n",
    "| **Insertion at end** | O(1) | O(n) |\n",
    "| **Insertion at position** | O(n) | O(n) |\n",
    "| **Deletion from beginning** | O(n) | O(1) |\n",
    "| **Deletion from end** | O(1) | O(n) |\n",
    "| **Deletion from position** | O(n) | O(n) |\n",
    "| **Search** | O(n) | O(n) |\n",
    "| **Access by index** | O(1) | O(n) |\n",
    "| **Update at position** | O(1) | O(n) |\n",
    "\n",
    "## Advantages and Disadvantages\n",
    "\n",
    "**Advantages of Linked Lists:**\n",
    "- Dynamic size (can grow/shrink at runtime)\n",
    "- Efficient insertion/deletion at the beginning\n",
    "- Memory efficient (allocates only needed memory)\n",
    "- No memory waste\n",
    "\n",
    "**Disadvantages of Linked Lists:**\n",
    "- No random access (must traverse sequentially)\n",
    "- Extra memory overhead for storing pointers\n",
    "- Not cache-friendly due to non-contiguous memory\n",
    "- Cannot use binary search directly"
   ]
  }
 ],
 "metadata": {
  "kernelspec": {
   "display_name": "Python 3",
   "language": "python",
   "name": "python3"
  },
  "language_info": {
   "codemirror_mode": {
    "name": "ipython",
    "version": 3
   },
   "file_extension": ".py",
   "mimetype": "text/x-python",
   "name": "python",
   "nbconvert_exporter": "python",
   "pygments_lexer": "ipython3",
   "version": "3.13.5"
  }
 },
 "nbformat": 4,
 "nbformat_minor": 5
}
